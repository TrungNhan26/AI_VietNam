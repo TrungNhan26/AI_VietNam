{
  "nbformat": 4,
  "nbformat_minor": 0,
  "metadata": {
    "colab": {
      "provenance": [],
      "authorship_tag": "ABX9TyN+WBWXpfbBxNC+q/hivEE0",
      "include_colab_link": true
    },
    "kernelspec": {
      "name": "python3",
      "display_name": "Python 3"
    },
    "language_info": {
      "name": "python"
    }
  },
  "cells": [
    {
      "cell_type": "markdown",
      "metadata": {
        "id": "view-in-github",
        "colab_type": "text"
      },
      "source": [
        "<a href=\"https://colab.research.google.com/github/TrungNhan26/AI_VietNam/blob/feature%2Fhomework_module2_week1/hw_module2_week1.ipynb\" target=\"_parent\"><img src=\"https://colab.research.google.com/assets/colab-badge.svg\" alt=\"Open In Colab\"/></a>"
      ]
    },
    {
      "cell_type": "code",
      "execution_count": null,
      "metadata": {
        "colab": {
          "base_uri": "https://localhost:8080/"
        },
        "id": "DFhkYHAYx8nv",
        "outputId": "7e5685e8-8fda-46a1-eb31-216e1cf4063b"
      },
      "outputs": [
        {
          "output_type": "stream",
          "name": "stdout",
          "text": [
            "Downloading...\n",
            "From: https://drive.google.com/uc?id=1i9dqan21DjQoG5Q_VEvm0LrVwAlXD0vB\n",
            "To: /content/dog.jpeg\n",
            "\r  0% 0.00/33.7k [00:00<?, ?B/s]\r100% 33.7k/33.7k [00:00<00:00, 36.6MB/s]\n",
            "102.5\n"
          ]
        }
      ],
      "source": [
        "# Dòng 2: Tải ảnh xuống (lưu ý: dòng này chỉ chạy được trong môi trường có thể chạy lệnh hệ thống)\n",
        "!gdown 1i9dqan21DjQoG5Q_VEvm0LrVwAlXD0vB\n",
        "\n",
        "# Dòng 4: Nhập thư viện matplotlib để xử lý ảnh\n",
        "import matplotlib.image as mpimg\n",
        "import numpy as np\n",
        "\n",
        "# Dòng 5: Đọc ảnh vào\n",
        "img = mpimg.imread('/content/dog.jpeg')\n",
        "\n",
        "# Dòng 6: Chuyển đổi ảnh màu sang ảnh xám bằng phương pháp Lightness\n",
        "# Phương pháp Lightness: (max(R, G, B) + min(R, G, B)) / 2\n",
        "gray_img_01 = np.mean([img.max(axis=2), img.min(axis=2)], axis=0)\n",
        "\n",
        "# Dòng 7: In giá trị tại vị trí (0, 0) của ảnh xám\n",
        "print(gray_img_01[0, 0])\n"
      ]
    },
    {
      "cell_type": "code",
      "source": [
        "# Dòng 1-2: Tải ảnh xuống (lưu ý: dòng này chỉ chạy được trong môi trường có thể chạy lệnh hệ thống)\n",
        "!gdown 1i9dqan21DjQoG5Q_VEvm0LrVwAlXD0vB\n",
        "\n",
        "# Dòng 4: Nhập thư viện matplotlib để xử lý ảnh\n",
        "import matplotlib.image as mpimg\n",
        "import numpy as np\n",
        "\n",
        "# Dòng 5: Đọc ảnh vào\n",
        "img = mpimg.imread('/content/dog.jpeg')\n",
        "\n",
        "# Dòng 6: Chuyển đổi ảnh màu sang ảnh xám bằng phương pháp Average\n",
        "# Phương pháp Average: (R + G + B) / 3\n",
        "gray_img_02 = np.mean(img, axis=2)\n",
        "\n",
        "# Dòng 7: In giá trị tại vị trí (0, 0) của ảnh xám\n",
        "print(gray_img_02[0, 0])\n"
      ],
      "metadata": {
        "colab": {
          "base_uri": "https://localhost:8080/"
        },
        "id": "Qbwf3NXjyLHz",
        "outputId": "7b0bdae6-73a2-4701-980c-9c22ffa5b522"
      },
      "execution_count": null,
      "outputs": [
        {
          "output_type": "stream",
          "name": "stdout",
          "text": [
            "Downloading...\n",
            "From: https://drive.google.com/uc?id=1i9dqan21DjQoG5Q_VEvm0LrVwAlXD0vB\n",
            "To: /content/dog.jpeg\n",
            "\r  0% 0.00/33.7k [00:00<?, ?B/s]\r100% 33.7k/33.7k [00:00<00:00, 62.9MB/s]\n",
            "107.66666666666667\n"
          ]
        }
      ]
    },
    {
      "cell_type": "code",
      "source": [
        "# Dòng 1-2: Tải ảnh xuống (lưu ý: dòng này chỉ chạy được trong môi trường có thể chạy lệnh hệ thống)\n",
        "!gdown 1i9dqan21DjQoG5Q_VEvm0LrVwAlXD0vB\n",
        "\n",
        "# Dòng 4: Nhập thư viện matplotlib để xử lý ảnh\n",
        "import matplotlib.image as mpimg\n",
        "import numpy as np\n",
        "\n",
        "# Dòng 5: Đọc ảnh vào\n",
        "img = mpimg.imread('/content/dog.jpeg')\n",
        "\n",
        "# Dòng 6: Chuyển đổi ảnh màu sang ảnh xám bằng phương pháp Luminosity\n",
        "gray_img_03 = np.dot(img[..., :3], [0.21, 0.72, 0.07])\n",
        "\n",
        "# Dòng 7: In giá trị tại vị trí (0, 0) của ảnh xám\n",
        "print(gray_img_03[0, 0])\n"
      ],
      "metadata": {
        "colab": {
          "base_uri": "https://localhost:8080/"
        },
        "id": "I6JiFe2lykvs",
        "outputId": "845b17c9-34e6-4c00-b14b-9426682473d2"
      },
      "execution_count": null,
      "outputs": [
        {
          "output_type": "stream",
          "name": "stdout",
          "text": [
            "Downloading...\n",
            "From: https://drive.google.com/uc?id=1i9dqan21DjQoG5Q_VEvm0LrVwAlXD0vB\n",
            "To: /content/dog.jpeg\n",
            "\r  0% 0.00/33.7k [00:00<?, ?B/s]\r100% 33.7k/33.7k [00:00<00:00, 55.9MB/s]\n",
            "126.22999999999999\n"
          ]
        }
      ]
    },
    {
      "cell_type": "code",
      "source": [
        "import pandas as pd\n",
        "\n",
        "!gdown 1iA0WmVfW88HyJvTBSQDI5vesf-pgKabq\n",
        "\n",
        "# Đọc dữ liệu từ file CSV vào DataFrame\n",
        "df = pd.read_csv('/content/advertising.csv')\n",
        "data = df.to_numpy()\n",
        "\n",
        "#câu15\n",
        "max_sales = data[:, 3].max()\n",
        "#max_sales = df['Sales'].max()\n",
        "max_index = data[:, 3].argmax()\n",
        "print(f\"Max: {max_sales} - Index: {max_index}\")\n",
        "\n",
        "#câu16\n",
        "mean_tv = df['TV'].mean()\n",
        "print(mean_tv)\n",
        "\n",
        "#câu17\n",
        "count_sales_above_20 = np.sum(data[:, 3] >= 20)\n",
        "print(count_sales_above_20)\n",
        "\n",
        "#câu18\n",
        "filtered_data = df[df['Sales'] >= 15]\n",
        "mean_radio_filtered = filtered_data['Radio'].mean()\n",
        "print(mean_radio_filtered)\n",
        "\n",
        "\n",
        "#câu19\n",
        "mean_newspaper = df['Newspaper'].mean()\n",
        "sum_sales_newspaper_above_mean = np.sum(df.loc[df['Newspaper'] > mean_newspaper, 'Sales'])\n",
        "print(sum_sales_newspaper_above_mean)\n",
        "\n",
        "#câu20\n",
        "mean_sales = df['Sales'].mean()\n",
        "scores = np.where(df['Sales'] > mean_sales, 'Good', np.where(df['Sales'] < mean_sales, 'Bad', 'Average'))\n",
        "print(scores[7:10])\n",
        "\n",
        "#câu21\n",
        "mean_sales = df['Sales'].mean()\n",
        "nearest_sales_value = df.loc[df['Sales'].sub(mean_sales).abs().idxmin(), 'Sales']\n",
        "print(scores[7:10])"
      ],
      "metadata": {
        "colab": {
          "base_uri": "https://localhost:8080/"
        },
        "id": "j-s2S_xIzs5Z",
        "outputId": "7b4d8315-bae1-471e-ceeb-e569cf92a145"
      },
      "execution_count": null,
      "outputs": [
        {
          "output_type": "stream",
          "name": "stdout",
          "text": [
            "Downloading...\n",
            "From: https://drive.google.com/uc?id=1iA0WmVfW88HyJvTBSQDI5vesf-pgKabq\n",
            "To: /content/advertising.csv\n",
            "\r  0% 0.00/4.06k [00:00<?, ?B/s]\r100% 4.06k/4.06k [00:00<00:00, 13.1MB/s]\n",
            "Max: 27.0 - Index: 175\n",
            "147.0425\n",
            "40\n",
            "26.22293577981651\n",
            "1405.1\n",
            "['Bad' 'Bad' 'Good']\n",
            "['Bad' 'Bad' 'Good']\n"
          ]
        }
      ]
    }
  ]
}