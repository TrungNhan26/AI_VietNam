{
 "cells": [
  {
   "cell_type": "code",
   "execution_count": 1,
   "metadata": {},
   "outputs": [
    {
     "name": "stdout",
     "output_type": "stream",
     "text": [
      "[5, 5, 5, 5, 10, 12, 33, 33]\n"
     ]
    }
   ],
   "source": [
    "#bai1\n",
    "def max_kernel(num_list, k):\n",
    "    result = []\n",
    "    for i in range(len(num_list) - k + 1):\n",
    "        window = num_list[i:i+k]\n",
    "        result.append(max(window))\n",
    "    return result\n",
    "\n",
    "# Test cases\n",
    "assert max_kernel([3, 4, 5, 1, -44], 3) == [5, 5, 5]\n",
    "num_list = [3, 4, 5, 1, -44, 5, 10, 12, 33, 1]\n",
    "k = 3\n",
    "print(max_kernel(num_list, k))  # Output should be [5, 5, 5, 5, 10, 12, 33, 33]\n"
   ]
  },
  {
   "cell_type": "code",
   "execution_count": 3,
   "metadata": {},
   "outputs": [
    {
     "name": "stdout",
     "output_type": "stream",
     "text": [
      "{'s': 2, 'm': 1, 'i': 1, 'l': 1, 'e': 1}\n"
     ]
    }
   ],
   "source": [
    "#bai2\n",
    "def character_count(word):\n",
    "    character_statistic = {}\n",
    "    for char in word:\n",
    "        if char in character_statistic:\n",
    "            character_statistic[char] += 1\n",
    "        else:\n",
    "            character_statistic[char] = 1\n",
    "    return character_statistic\n",
    "\n",
    "# Kiểm tra hàm với các test case\n",
    "assert character_count(\"Baby\") == {'B': 1, 'a': 1, 'b': 1, 'y': 1}\n",
    "print(character_count(\"smiles\"))\n"
   ]
  },
  {
   "cell_type": "code",
   "execution_count": 22,
   "metadata": {},
   "outputs": [
    {
     "name": "stdout",
     "output_type": "stream",
     "text": [
      "6\n"
     ]
    }
   ],
   "source": [
    "#bai3\n",
    "def count_word(file_path):\n",
    "    counter = {}\n",
    "    \n",
    "    # Đọc nội dung tệp\n",
    "    with open(file_path, 'r') as file:\n",
    "        for line in file:\n",
    "            words = line.split(\" \")\n",
    "            for word in words:\n",
    "                #word = word.strip('.,!?;:\"()[]{}').lower()\n",
    "                if word in counter:\n",
    "                    counter[word] += 1\n",
    "                else:\n",
    "                    counter[word] = 1\n",
    "    \n",
    "    return counter\n",
    "\n",
    "# Đường dẫn tới tệp tin\n",
    "file_path = 'c:/Users/ASUS/OneDrive - The University of Technology/Documents/Downloads/P1_data.txt'\n",
    "\n",
    "# Gọi hàm và lưu kết quả\n",
    "result = count_word(file_path)\n",
    "\n",
    "# Kiểm tra kết quả\n",
    "assert result['who'] == 3\n",
    "print(result['man'])\n",
    "\n"
   ]
  },
  {
   "cell_type": "code",
   "execution_count": 1,
   "metadata": {},
   "outputs": [],
   "source": [
    "#b5\n",
    "def check_the_number(N):\n",
    "    list_of_numbers = []\n",
    "    result = \"\"\n",
    "    for i in range(1, 5):\n",
    "        list_of_numbers.append(i)\n",
    "    if N in list_of_numbers:\n",
    "        result = \"True\"\n",
    "    else:\n",
    "        result = \"False\"\n",
    "    return result\n",
    "\n",
    "N = 7\n",
    "assert check_the_number(N) == \"False\"\n",
    "N = 2\n",
    "results = check_the_number ( N )\n",
    "print ( results )\n"
   ]
  },
  {
   "cell_type": "code",
   "execution_count": 5,
   "metadata": {},
   "outputs": [
    {
     "name": "stdout",
     "output_type": "stream",
     "text": [
      "[2, 2, 2, 1, 1]\n"
     ]
    }
   ],
   "source": [
    "#b6\n",
    "def my_function(data, max, min):\n",
    "    result = []\n",
    "    for i in data:\n",
    "        if i < min:\n",
    "            result.append(min)\n",
    "        elif i > max:\n",
    "            result.append(max)\n",
    "        else:\n",
    "            result.append(i)\n",
    "    return result\n",
    "\n",
    "my_list = [5, 2, 5, 0, 1]\n",
    "max = 1\n",
    "min = 0\n",
    "assert my_function(max=max, min=min, data=my_list) == [1, 1, 1, 0, 1]\n",
    "\n",
    "my_list = [10, 2, 5, 0, 1]\n",
    "max = 2\n",
    "min = 1\n",
    "print(my_function(max=max, min=min, data=my_list))\n",
    "\n"
   ]
  },
  {
   "cell_type": "code",
   "execution_count": 3,
   "metadata": {},
   "outputs": [
    {
     "name": "stdout",
     "output_type": "stream",
     "text": [
      "[1, 2, 3, 4, 0, 0]\n"
     ]
    }
   ],
   "source": [
    "#b7\n",
    "def my_function(x, y):\n",
    "    x.extend(y)\n",
    "    return x\n",
    "\n",
    "list_num1 = ['a', 2, 5]\n",
    "list_num2 = [1, 1]\n",
    "list_num3 = [0, 0]\n",
    "\n",
    "assert my_function(list_num1, my_function(list_num2, list_num3)) == ['a', 2, 5, 1, 1, 0, 0]\n",
    "\n",
    "list_num1 = [1, 2]\n",
    "list_num2 = [3, 4]\n",
    "list_num3 = [0, 0]\n",
    "\n",
    "print(my_function(list_num1, my_function(list_num2, list_num3)))\n"
   ]
  },
  {
   "cell_type": "code",
   "execution_count": 4,
   "metadata": {},
   "outputs": [
    {
     "name": "stdout",
     "output_type": "stream",
     "text": [
      "-1\n"
     ]
    }
   ],
   "source": [
    "#b8\n",
    "def my_function(n):\n",
    "    return min(n)\n",
    "\n",
    "my_list = [1, 22, 93, -100]\n",
    "assert my_function(my_list) == -100\n",
    "\n",
    "my_list = [1, 2, 3, -1]\n",
    "print(my_function(my_list))\n"
   ]
  },
  {
   "cell_type": "code",
   "execution_count": 24,
   "metadata": {},
   "outputs": [
    {
     "ename": "TypeError",
     "evalue": "'int' object is not callable",
     "output_type": "error",
     "traceback": [
      "\u001b[1;31m---------------------------------------------------------------------------\u001b[0m",
      "\u001b[1;31mTypeError\u001b[0m                                 Traceback (most recent call last)",
      "Cell \u001b[1;32mIn[24], line 5\u001b[0m\n\u001b[0;32m      2\u001b[0m     \u001b[38;5;28;01mreturn\u001b[39;00m \u001b[38;5;28mmax\u001b[39m(n)\n\u001b[0;32m      4\u001b[0m my_list \u001b[38;5;241m=\u001b[39m [\u001b[38;5;241m1001\u001b[39m, \u001b[38;5;241m9\u001b[39m, \u001b[38;5;241m100\u001b[39m, \u001b[38;5;241m0\u001b[39m]\n\u001b[1;32m----> 5\u001b[0m \u001b[38;5;28;01massert\u001b[39;00m \u001b[43mmy_function1\u001b[49m\u001b[43m(\u001b[49m\u001b[43mmy_list\u001b[49m\u001b[43m)\u001b[49m \u001b[38;5;241m==\u001b[39m \u001b[38;5;241m1001\u001b[39m\n\u001b[0;32m      7\u001b[0m my_list1 \u001b[38;5;241m=\u001b[39m [\u001b[38;5;241m1\u001b[39m, \u001b[38;5;241m9\u001b[39m, \u001b[38;5;241m9\u001b[39m, \u001b[38;5;241m0\u001b[39m]\n\u001b[0;32m      8\u001b[0m \u001b[38;5;28mprint\u001b[39m(my_function1(my_list1))\n",
      "Cell \u001b[1;32mIn[24], line 2\u001b[0m, in \u001b[0;36mmy_function1\u001b[1;34m(n)\u001b[0m\n\u001b[0;32m      1\u001b[0m \u001b[38;5;28;01mdef\u001b[39;00m \u001b[38;5;21mmy_function1\u001b[39m(n):\n\u001b[1;32m----> 2\u001b[0m     \u001b[38;5;28;01mreturn\u001b[39;00m \u001b[38;5;28;43mmax\u001b[39;49m\u001b[43m(\u001b[49m\u001b[43mn\u001b[49m\u001b[43m)\u001b[49m\n",
      "\u001b[1;31mTypeError\u001b[0m: 'int' object is not callable"
     ]
    }
   ],
   "source": [
    "def my_function1(n):\n",
    "    return max(n)\n",
    "\n",
    "my_list = [1001, 9, 100, 0]\n",
    "assert my_function1(my_list) == 1001\n",
    "\n",
    "my_list1 = [1, 9, 9, 0]\n",
    "print(my_function1(my_list1))"
   ]
  },
  {
   "cell_type": "code",
   "execution_count": 25,
   "metadata": {},
   "outputs": [
    {
     "name": "stdout",
     "output_type": "stream",
     "text": [
      "True\n"
     ]
    }
   ],
   "source": [
    "#b10\n",
    "def My_function(integers, number=1):\n",
    "    return any(num == number for num in integers)\n",
    "\n",
    "my_list = [1, 3, 9, 4]\n",
    "assert My_function(my_list, -1) == False\n",
    "\n",
    "my_list = [1, 2, 3, 4]\n",
    "print(My_function(my_list, 2))\n"
   ]
  },
  {
   "cell_type": "code",
   "execution_count": 26,
   "metadata": {},
   "outputs": [
    {
     "name": "stdout",
     "output_type": "stream",
     "text": [
      "1.0\n"
     ]
    }
   ],
   "source": [
    "#b11\n",
    "def my_function(list_nums=[0, 1, 2]):\n",
    "    var = 0\n",
    "    for i in list_nums:\n",
    "        var += i\n",
    "    return var / len(list_nums)\n",
    "\n",
    "# Kiểm tra với input khác nhau\n",
    "assert my_function([4, 6, 8]) == 6\n",
    "print(my_function())\n"
   ]
  },
  {
   "cell_type": "code",
   "execution_count": 27,
   "metadata": {},
   "outputs": [
    {
     "name": "stdout",
     "output_type": "stream",
     "text": [
      "[3, 6]\n"
     ]
    }
   ],
   "source": [
    "#b12\n",
    "def my_function(data):\n",
    "    var = []\n",
    "    for i in data:\n",
    "        if i % 3 == 0:\n",
    "            var.append(i)\n",
    "    return var\n",
    "\n",
    "# Kiểm tra với input khác nhau\n",
    "assert my_function([3, 9, 4, 5]) == [3, 9]\n",
    "print(my_function([1, 2, 3, 5, 6]))\n"
   ]
  },
  {
   "cell_type": "code",
   "execution_count": 28,
   "metadata": {},
   "outputs": [
    {
     "name": "stdout",
     "output_type": "stream",
     "text": [
      "24\n"
     ]
    }
   ],
   "source": [
    "#b13\n",
    "def my_function(y):\n",
    "    var = 1\n",
    "    while y > 1:\n",
    "        var *= y\n",
    "        y -= 1\n",
    "    return var\n",
    "\n",
    "# Kiểm tra với input khác nhau\n",
    "assert my_function(8) == 40320\n",
    "print(my_function(4))\n"
   ]
  },
  {
   "cell_type": "code",
   "execution_count": 36,
   "metadata": {},
   "outputs": [
    {
     "name": "stdout",
     "output_type": "stream",
     "text": [
      " tocirpa\n"
     ]
    }
   ],
   "source": [
    "#b14\n",
    "def my_function(x):\n",
    "    return x[::-1]\n",
    "        #start:end:step\n",
    "x = 'I can do it '\n",
    "#assert my_function(x) == \"ti od nac I\"\n",
    "\n",
    "x = 'apricot '\n",
    "print(my_function(x))\n"
   ]
  },
  {
   "cell_type": "code",
   "execution_count": 37,
   "metadata": {},
   "outputs": [
    {
     "name": "stdout",
     "output_type": "stream",
     "text": [
      "['T', 'T', 'T', 'N']\n"
     ]
    }
   ],
   "source": [
    "#b15\n",
    "def function_helper(x):\n",
    "    if x > 0:\n",
    "        return 'T'\n",
    "    else:\n",
    "        return 'N'\n",
    "\n",
    "def my_function(data):\n",
    "    res = [function_helper(x) for x in data]\n",
    "    return res\n",
    "\n",
    "data = [10, 0, -10, -1]\n",
    "assert my_function(data) == ['T', 'N', 'N', 'N']\n",
    "\n",
    "data = [2, 3, 5, -1]\n",
    "print(my_function(data))\n"
   ]
  },
  {
   "cell_type": "code",
   "execution_count": 38,
   "metadata": {},
   "outputs": [
    {
     "name": "stdout",
     "output_type": "stream",
     "text": [
      "[9, 8, 1]\n"
     ]
    }
   ],
   "source": [
    "#b16\n",
    "def function_helper(x, data):\n",
    "    for i in data:\n",
    "        if x == i:\n",
    "            return 0\n",
    "    return 1\n",
    "\n",
    "def my_function(data):\n",
    "    res = []\n",
    "    for i in data:\n",
    "        if function_helper(i, res):\n",
    "            res.append(i)\n",
    "    return res\n",
    "\n",
    "lst = [10, 10, 9, 7, 7]\n",
    "assert my_function(lst) == [10, 9, 7]\n",
    "\n",
    "lst = [9, 9, 8, 1, 1]\n",
    "print(my_function(lst))\n"
   ]
  }
 ],
 "metadata": {
  "kernelspec": {
   "display_name": "Python 3",
   "language": "python",
   "name": "python3"
  },
  "language_info": {
   "codemirror_mode": {
    "name": "ipython",
    "version": 3
   },
   "file_extension": ".py",
   "mimetype": "text/x-python",
   "name": "python",
   "nbconvert_exporter": "python",
   "pygments_lexer": "ipython3",
   "version": "3.11.8"
  }
 },
 "nbformat": 4,
 "nbformat_minor": 2
}
