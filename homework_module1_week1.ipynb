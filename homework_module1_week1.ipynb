{
 "cells": [
  {
   "cell_type": "code",
   "execution_count": null,
   "metadata": {},
   "outputs": [],
   "source": [
    "#b1\n",
    "def calc_f1_score(tp, fp, fn):\n",
    "    # Calculate precision and recall\n",
    "    precision = tp / (tp + fp) if (tp + fp) != 0 else 0\n",
    "    recall = tp / (tp + fn) if (tp + fn) != 0 else 0\n",
    "\n",
    "    # Calculate F1 score\n",
    "    if precision + recall == 0:\n",
    "        return 0\n",
    "    f1_score = 2 * (precision * recall) / (precision + recall)\n",
    "    return f1_score\n",
    "\n",
    "# Test the function\n",
    "assert round(calc_f1_score(tp=2, fp=3, fn=5), 2) == 0.33\n",
    "print(round(calc_f1_score(tp=2, fp=4, fn=5), 2))\n"
   ]
  },
  {
   "cell_type": "code",
   "execution_count": null,
   "metadata": {},
   "outputs": [],
   "source": [
    "#b2\n",
    "def is_number(n):\n",
    "    try:\n",
    "        float(n)\n",
    "        return 1.0\n",
    "    except ValueError:\n",
    "        return 0.0\n",
    "\n",
    "# Test the function\n",
    "assert is_number(3) == 1.0\n",
    "assert is_number('-2a') == 0.0\n",
    "print(is_number(1))\n",
    "print(is_number('n'))\n"
   ]
  },
  {
   "cell_type": "code",
   "execution_count": null,
   "metadata": {},
   "outputs": [],
   "source": [
    "#b4\n",
    "import math\n",
    "\n",
    "def calc_sig(x):\n",
    "    return 1 / (1 + math.exp(-x))\n",
    "\n",
    "# Test the function\n",
    "assert round(calc_sig(3), 2) == 0.95\n",
    "print(round(calc_sig(2), 2))\n"
   ]
  },
  {
   "cell_type": "code",
   "execution_count": null,
   "metadata": {},
   "outputs": [],
   "source": [
    "#b5\n",
    "import math\n",
    "def calc_elu(x, alpha=1):\n",
    "    if x >= 0:\n",
    "        return x\n",
    "    else:\n",
    "        return alpha * (math.exp(x) - 1)\n",
    "# Test the function\n",
    "assert round(calc_elu(1)) == 1\n",
    "print(round(calc_elu(-1), 2))"
   ]
  },
  {
   "cell_type": "code",
   "execution_count": null,
   "metadata": {},
   "outputs": [],
   "source": [
    "#b6\n",
    "import math\n",
    "\n",
    "def calc_activation_func(x, act_name):\n",
    "    if act_name == 'relu':\n",
    "        return max(0, x)\n",
    "    elif act_name == 'sigmoid':\n",
    "        return 1 / (1 + math.exp(-x))\n",
    "    elif act_name == 'elu':\n",
    "        alpha = 1\n",
    "        if x >= 0:\n",
    "            return x\n",
    "        else:\n",
    "            return alpha * (math.exp(x) - 1)\n",
    "    else:\n",
    "        raise ValueError(\"Unknown activation function: \" + act_name)\n",
    "\n",
    "# Test the function\n",
    "assert calc_activation_func(x=1, act_name='relu') == 1\n",
    "print(round(calc_activation_func(x=3, act_name='sigmoid'), 2))\n"
   ]
  },
  {
   "cell_type": "code",
   "execution_count": null,
   "metadata": {},
   "outputs": [],
   "source": [
    "#b7\n",
    "def calc_ae(y, y_hat):\n",
    "    return abs(y - y_hat)\n",
    "\n",
    "# Test the function\n",
    "y = 1\n",
    "y_hat = 6\n",
    "assert calc_ae(y, y_hat) == 5\n",
    "\n",
    "y = 2\n",
    "y_hat = 9\n",
    "print(calc_ae(y, y_hat))\n"
   ]
  },
  {
   "cell_type": "code",
   "execution_count": null,
   "metadata": {},
   "outputs": [],
   "source": [
    "#b8\n",
    "def calc_se(y, y_hat):\n",
    "    return (y - y_hat) ** 2\n",
    "\n",
    "# Test the function\n",
    "y = 4\n",
    "y_hat = 2\n",
    "assert calc_se(y, y_hat) == 4\n",
    "\n",
    "print(calc_se(2, 1))\n"
   ]
  },
  {
   "cell_type": "code",
   "execution_count": null,
   "metadata": {},
   "outputs": [],
   "source": [
    "#b9\n",
    "import math\n",
    "\n",
    "def approx_cos(x, n):\n",
    "    cos_approx = 0\n",
    "    for k in range(n):\n",
    "        term = ((-1) ** k) * (x ** (2 * k)) / math.factorial(2 * k)\n",
    "        cos_approx += term\n",
    "    return cos_approx\n",
    "\n",
    "# Test the function\n",
    "assert round(approx_cos(x=1, n=10), 2) == 0.54\n",
    "print(round(approx_cos(x=3.14, n=10), 2))\n"
   ]
  },
  {
   "cell_type": "code",
   "execution_count": null,
   "metadata": {},
   "outputs": [],
   "source": [
    "#b10\n",
    "import math\n",
    "\n",
    "def approx_sin(x, n):\n",
    "    sin_approx = 0\n",
    "    for k in range(n):\n",
    "        term = ((-1) ** k) * (x ** (2 * k + 1)) / math.factorial(2 * k + 1)\n",
    "        sin_approx += term\n",
    "    return sin_approx\n",
    "\n",
    "# Test the function\n",
    "assert round(approx_sin(x=1, n=10), 4) == 0.8415\n",
    "print(round(approx_sin(x=3.14, n=10), 4))\n"
   ]
  },
  {
   "cell_type": "code",
   "execution_count": null,
   "metadata": {},
   "outputs": [],
   "source": [
    "#b11\n",
    "import math\n",
    "\n",
    "def approx_sin(x, n):\n",
    "    sin_approx = 0\n",
    "    for k in range(n):\n",
    "        term = ((-1) ** k) * (x ** (2 * k + 1)) / math.factorial(2 * k + 1)\n",
    "        sin_approx += term\n",
    "    return sin_approx\n",
    "\n",
    "# Test the function\n",
    "assert round(approx_sin(x=1, n=10), 4) == 0.8415\n",
    "print(round(approx_sin(x=3.14, n=10), 4))\n"
   ]
  },
  {
   "cell_type": "code",
   "execution_count": null,
   "metadata": {},
   "outputs": [],
   "source": [
    "#b12\n",
    "import math\n",
    "\n",
    "def approx_cosh(x, n):\n",
    "    cosh_approx = 0\n",
    "    for k in range(n):\n",
    "        term = (x ** (2 * k)) / math.factorial(2 * k)\n",
    "        cosh_approx += term\n",
    "    return cosh_approx\n",
    "\n",
    "# Test the function\n",
    "assert round(approx_cosh(x=1, n=10), 2) == 1.54\n",
    "print(round(approx_cosh(x=3.14, n=10), 2))\n"
   ]
  }
 ],
 "metadata": {
  "language_info": {
   "name": "python"
  }
 },
 "nbformat": 4,
 "nbformat_minor": 2
}
